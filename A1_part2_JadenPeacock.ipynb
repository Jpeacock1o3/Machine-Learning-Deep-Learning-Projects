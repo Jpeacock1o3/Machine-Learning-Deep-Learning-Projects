{
 "cells": [
  {
   "cell_type": "code",
   "execution_count": 78,
   "id": "7d26246b",
   "metadata": {},
   "outputs": [],
   "source": [
    "import pandas as pd\n",
    "import matplotlib.pyplot as plt\n",
    "import seaborn as sns\n",
    "import numpy as np\n",
    "import pickle"
   ]
  },
  {
   "cell_type": "code",
   "execution_count": 79,
   "id": "fefed34e",
   "metadata": {},
   "outputs": [
    {
     "data": {
      "text/html": [
       "<div>\n",
       "<style scoped>\n",
       "    .dataframe tbody tr th:only-of-type {\n",
       "        vertical-align: middle;\n",
       "    }\n",
       "\n",
       "    .dataframe tbody tr th {\n",
       "        vertical-align: top;\n",
       "    }\n",
       "\n",
       "    .dataframe thead th {\n",
       "        text-align: right;\n",
       "    }\n",
       "</style>\n",
       "<table border=\"1\" class=\"dataframe\">\n",
       "  <thead>\n",
       "    <tr style=\"text-align: right;\">\n",
       "      <th></th>\n",
       "      <th>calorie requirement</th>\n",
       "      <th>average sleep duration</th>\n",
       "      <th>bill_length_mm</th>\n",
       "      <th>bill_depth_mm</th>\n",
       "      <th>flipper_length_mm</th>\n",
       "      <th>body_mass_g</th>\n",
       "      <th>year</th>\n",
       "      <th>species_chinstrap</th>\n",
       "      <th>species_gentoo</th>\n",
       "      <th>island_dream</th>\n",
       "      <th>island_torgersen</th>\n",
       "      <th>gender_male</th>\n",
       "    </tr>\n",
       "  </thead>\n",
       "  <tbody>\n",
       "    <tr>\n",
       "      <th>0</th>\n",
       "      <td>0.828324</td>\n",
       "      <td>0.571429</td>\n",
       "      <td>0.254545</td>\n",
       "      <td>0.666667</td>\n",
       "      <td>0.152542</td>\n",
       "      <td>0.291667</td>\n",
       "      <td>0.0</td>\n",
       "      <td>False</td>\n",
       "      <td>False</td>\n",
       "      <td>False</td>\n",
       "      <td>True</td>\n",
       "      <td>True</td>\n",
       "    </tr>\n",
       "    <tr>\n",
       "      <th>1</th>\n",
       "      <td>0.375305</td>\n",
       "      <td>1.000000</td>\n",
       "      <td>0.269091</td>\n",
       "      <td>0.511905</td>\n",
       "      <td>0.237288</td>\n",
       "      <td>0.305556</td>\n",
       "      <td>0.0</td>\n",
       "      <td>False</td>\n",
       "      <td>False</td>\n",
       "      <td>False</td>\n",
       "      <td>True</td>\n",
       "      <td>False</td>\n",
       "    </tr>\n",
       "    <tr>\n",
       "      <th>2</th>\n",
       "      <td>0.996480</td>\n",
       "      <td>0.571429</td>\n",
       "      <td>0.298182</td>\n",
       "      <td>0.583333</td>\n",
       "      <td>0.389831</td>\n",
       "      <td>0.152778</td>\n",
       "      <td>0.0</td>\n",
       "      <td>False</td>\n",
       "      <td>False</td>\n",
       "      <td>False</td>\n",
       "      <td>True</td>\n",
       "      <td>False</td>\n",
       "    </tr>\n",
       "    <tr>\n",
       "      <th>3</th>\n",
       "      <td>0.343894</td>\n",
       "      <td>0.142857</td>\n",
       "      <td>0.167273</td>\n",
       "      <td>0.738095</td>\n",
       "      <td>0.355932</td>\n",
       "      <td>0.208333</td>\n",
       "      <td>0.0</td>\n",
       "      <td>False</td>\n",
       "      <td>False</td>\n",
       "      <td>False</td>\n",
       "      <td>True</td>\n",
       "      <td>False</td>\n",
       "    </tr>\n",
       "    <tr>\n",
       "      <th>4</th>\n",
       "      <td>0.243434</td>\n",
       "      <td>0.857143</td>\n",
       "      <td>0.261818</td>\n",
       "      <td>0.892857</td>\n",
       "      <td>0.305085</td>\n",
       "      <td>0.263889</td>\n",
       "      <td>0.0</td>\n",
       "      <td>False</td>\n",
       "      <td>False</td>\n",
       "      <td>False</td>\n",
       "      <td>True</td>\n",
       "      <td>True</td>\n",
       "    </tr>\n",
       "  </tbody>\n",
       "</table>\n",
       "</div>"
      ],
      "text/plain": [
       "   calorie requirement  average sleep duration  bill_length_mm  bill_depth_mm  \\\n",
       "0             0.828324                0.571429        0.254545       0.666667   \n",
       "1             0.375305                1.000000        0.269091       0.511905   \n",
       "2             0.996480                0.571429        0.298182       0.583333   \n",
       "3             0.343894                0.142857        0.167273       0.738095   \n",
       "4             0.243434                0.857143        0.261818       0.892857   \n",
       "\n",
       "   flipper_length_mm  body_mass_g  year  species_chinstrap  species_gentoo  \\\n",
       "0           0.152542     0.291667   0.0              False           False   \n",
       "1           0.237288     0.305556   0.0              False           False   \n",
       "2           0.389831     0.152778   0.0              False           False   \n",
       "3           0.355932     0.208333   0.0              False           False   \n",
       "4           0.305085     0.263889   0.0              False           False   \n",
       "\n",
       "   island_dream  island_torgersen  gender_male  \n",
       "0         False              True         True  \n",
       "1         False              True        False  \n",
       "2         False              True        False  \n",
       "3         False              True        False  \n",
       "4         False              True         True  "
      ]
     },
     "execution_count": 79,
     "metadata": {},
     "output_type": "execute_result"
    }
   ],
   "source": [
    "penuins_raw = pd.read_csv('penguins_preprocessed.csv')\n",
    "penguins_df = pd.DataFrame(penuins_raw)\n",
    "penguins_df.head()"
   ]
  },
  {
   "cell_type": "code",
   "execution_count": 80,
   "id": "94650165",
   "metadata": {},
   "outputs": [
    {
     "name": "stdout",
     "output_type": "stream",
     "text": [
      "gender_male\n",
      "True     153\n",
      "False    147\n",
      "Name: count, dtype: int64\n"
     ]
    }
   ],
   "source": [
    "#The target variable will be the gender\n",
    "print(penguins_df['gender_male'].value_counts())\n",
    "target_col = \"gender_male\"\n",
    "y = penguins_df[target_col].astype(int).to_numpy().reshape(-1, 1)\n",
    "#need to reshape so itll work well with the regression\n"
   ]
  },
  {
   "cell_type": "code",
   "execution_count": 81,
   "id": "07517002",
   "metadata": {},
   "outputs": [],
   "source": [
    "X = penguins_df.drop(columns=[target_col]).to_numpy(dtype=float)\n",
    "#dropping target variable and reshaping into a matrix to work well with regression\n"
   ]
  },
  {
   "cell_type": "code",
   "execution_count": 82,
   "id": "f4d13ee1",
   "metadata": {},
   "outputs": [
    {
     "name": "stdout",
     "output_type": "stream",
     "text": [
      "Train shapes: (240, 11) (240, 1)\n",
      "Test  shapes: (60, 11) (60, 1)\n"
     ]
    }
   ],
   "source": [
    "rng = np.random.default_rng(seed=42)\n",
    "N = len(y)\n",
    "perm = rng.permutation(N)\n",
    "split = int(0.8 * N)\n",
    "train_idx, test_idx = perm[:split], perm[split:]\n",
    "#creating the train test split of the data and making it random\n",
    "X_train, y_train = X[train_idx], y[train_idx]\n",
    "X_test,  y_test  = X[test_idx],  y[test_idx]\n",
    "#applying the random split to the features and targets and creating the train test variables\n",
    "\n",
    "print(\"Train shapes:\", X_train.shape, y_train.shape)\n",
    "print(\"Test  shapes:\", X_test.shape,  y_test.shape)"
   ]
  },
  {
   "cell_type": "code",
   "execution_count": 83,
   "id": "384b2323",
   "metadata": {},
   "outputs": [],
   "source": [
    "class LogitRegression():\n",
    "    def __init__(self, lr, num_iter):\n",
    "        self.lr = lr\n",
    "        self.num_iter = num_iter\n",
    "        self.W = np.random.uniform(0,1)\n",
    "        self.b = 0\n",
    "        self.loss = []\n",
    "\n",
    "    def sigmoid(self, z):\n",
    "        z = np.clip(z, -500, 500)\n",
    "        #make sure z can't be extreme\n",
    "        return 1 / (1 + np.exp(-z))\n",
    "\n",
    "    def cost(self, y, y_hat):\n",
    "        edge = 1e-12\n",
    "        y_hat = np.clip(y_hat, edge, 1 - edge)\n",
    "        return -(y * np.log(y_hat) + (1 - y) * np.log(1 - y_hat)).mean()\n",
    "\n",
    "    def gradient_descent(self, X, y, y_hat):\n",
    "        N = X.shape[0]\n",
    "        delta = y_hat - y           \n",
    "        dW = (X.T @ delta) / N      \n",
    "        db = np.mean(delta)         \n",
    "        return dW, db\n",
    "\n",
    "    def fit(self, X, y):\n",
    "        if y.ndim == 1:\n",
    "            y = y.reshape(-1, 1)\n",
    "        #make sure y is a column\n",
    "        N, d = X.shape\n",
    "        self.W = np.zeros((d, 1))\n",
    "        self.b = 0.0\n",
    "        self.loss = []\n",
    "\n",
    "        for _ in range(self.num_iter):\n",
    "            z = X @ self.W + self.b  \n",
    "            y_hat = self.sigmoid(z)\n",
    "            loss_val = self.cost(y, y_hat)\n",
    "            self.loss.append(loss_val)\n",
    "\n",
    "            delta = y_hat - y\n",
    "            dW = (X.T @ delta) / N\n",
    "            db = delta.mean()\n",
    "            self.W -= self.lr * dW\n",
    "            self.b -= self.lr * db\n",
    "\n",
    "    def predict(self, X):\n",
    "        z = X @ self.W + self.b\n",
    "        y_hat = self.sigmoid(z)\n",
    "        return (y_hat >= 0.5).astype(int)\n",
    "    \n",
    "    def accuracy(self, y_true, y_pred):\n",
    "        if y_true.ndim == 1: y_true = y_true.reshape(-1,1)\n",
    "        if y_pred.ndim == 1: y_pred = y_pred.reshape(-1,1)\n",
    "        #make sure the y's are one column\n",
    "        return (y_true == y_pred).mean()\n",
    "    \n",
    "    def confusion_matrix(self, y_true, y_pred):\n",
    "        if y_true.ndim == 1: y_true = y_true.reshape(-1,1)\n",
    "        if y_pred.ndim == 1: y_pred = y_pred.reshape(-1,1)\n",
    "        #make sure the y's are one column\n",
    "        tp = np.sum((y_true==1) & (y_pred==1))\n",
    "        tn = np.sum((y_true==0) & (y_pred==0))\n",
    "        fp = np.sum((y_true==0) & (y_pred==1))\n",
    "        fn = np.sum((y_true==1) & (y_pred==0))\n",
    "        return np.array([[tn, fp],\n",
    "                         [fn, tp]])\n",
    "    \n",
    "    def precision_recall_f1(self, y_true, y_pred):\n",
    "        if y_true.ndim == 1: y_true = y_true.reshape(-1,1)\n",
    "        if y_pred.ndim == 1: y_pred = y_pred.reshape(-1,1)\n",
    "        #make sure the y's are one column\n",
    "        tp = np.sum((y_true==1) & (y_pred==1))\n",
    "        fp = np.sum((y_true==0) & (y_pred==1))\n",
    "        fn = np.sum((y_true==1) & (y_pred==0))\n",
    "        #summing up the true and false positives and negatives\n",
    "        precision = tp / (tp + fp + 1e-12)\n",
    "        recall    = tp / (tp + fn + 1e-12)\n",
    "        f1        = 2*precision*recall / (precision + recall + 1e-12)\n",
    "        #need the 1e-12 just in case tp+fn is 0 so I dont get a undefined\n",
    "        return float(precision), float(recall), float(f1)\n",
    "\n",
    "    "
   ]
  },
  {
   "cell_type": "code",
   "execution_count": 84,
   "id": "268ea41b",
   "metadata": {},
   "outputs": [
    {
     "name": "stdout",
     "output_type": "stream",
     "text": [
      "Model Accuracy 85.0\n",
      "Precision (0.7714285714285494, 0.9642857142856799, 0.857142857142336)\n",
      "Confusion Matrix [[24  8]\n",
      " [ 1 27]]\n"
     ]
    }
   ],
   "source": [
    "#model training\n",
    "#1st setup\n",
    "model = LogitRegression(1e-3, 100000)\n",
    "model.fit(X_train, y_train)\n",
    "pred = model.predict(X_test)\n",
    "\n",
    "#accuracy score\n",
    "print(\"Model Accuracy\", model.accuracy(y_test, pred) * 100)\n",
    "print(\"Precision\", model.precision_recall_f1(y_test, pred))\n",
    "print(\"Confusion Matrix\", model.confusion_matrix(y_test, pred))"
   ]
  },
  {
   "cell_type": "code",
   "execution_count": 85,
   "id": "cb75f1d7",
   "metadata": {},
   "outputs": [
    {
     "name": "stdout",
     "output_type": "stream",
     "text": [
      "Model Accuracy 93.33333333333333\n",
      "Precision (0.89999999999997, 0.9642857142856799, 0.9310344827580892)\n",
      "Confusion Matrix [[29  3]\n",
      " [ 1 27]]\n"
     ]
    }
   ],
   "source": [
    "#2nd setup\n",
    "model = LogitRegression(5e-3, 100000)\n",
    "model.fit(X_train, y_train)\n",
    "pred = model.predict(X_test)\n",
    "\n",
    "#accuracy score\n",
    "print(\"Model Accuracy\", model.accuracy(y_test, pred) * 100)\n",
    "print(\"Precision\", model.precision_recall_f1(y_test, pred))\n",
    "print(\"Confusion Matrix\", model.confusion_matrix(y_test, pred))"
   ]
  },
  {
   "cell_type": "code",
   "execution_count": 86,
   "id": "0d73da05",
   "metadata": {},
   "outputs": [
    {
     "name": "stdout",
     "output_type": "stream",
     "text": [
      "Model Accuracy 93.33333333333333\n",
      "Precision (0.89999999999997, 0.9642857142856799, 0.9310344827580892)\n",
      "Confusion Matrix [[29  3]\n",
      " [ 1 27]]\n"
     ]
    }
   ],
   "source": [
    "#3rd setup\n",
    "model = LogitRegression(10e-3, 100000)\n",
    "model.fit(X_train, y_train)\n",
    "pred = model.predict(X_test)\n",
    "\n",
    "#accuracy score\n",
    "acc = model.accuracy(y_test, pred)\n",
    "print(\"Model Accuracy\", acc * 100)\n",
    "print(\"Precision\", model.precision_recall_f1(y_test, pred))\n",
    "print(\"Confusion Matrix\", model.confusion_matrix(y_test, pred))"
   ]
  },
  {
   "cell_type": "code",
   "execution_count": 87,
   "id": "f2d94ef9",
   "metadata": {},
   "outputs": [
    {
     "data": {
      "image/png": "[encoded data removed]",
      "text/plain": [
       "<Figure size 640x480 with 1 Axes>"
      ]
     },
     "metadata": {},
     "output_type": "display_data"
    }
   ],
   "source": [
    "setups = [\n",
    "    {\"lr\": 10e-3, \"num_iter\": 100000, \"label\": \"lr=10e-3, it=100k\"},\n",
    "    {\"lr\": 1e-3, \"num_iter\": 100000, \"label\": \"lr=1e-3, it=100k\"},\n",
    "    {\"lr\": 5e-3, \"num_iter\": 100000,  \"label\": \"lr=5e-3, it=100k\"},\n",
    "]\n",
    "\n",
    "results = []\n",
    "\n",
    "for version in setups:\n",
    "    model = LogitRegression(version[\"lr\"], version[\"num_iter\"])\n",
    "    model.fit(X_train, y_train)\n",
    "\n",
    "    # plot loss curve\n",
    "    plt.plot(model.loss, label=version[\"label\"])\n",
    "\n",
    "    # evaluate accuracy\n",
    "    y_pred = model.predict(X_test)\n",
    "    acc = model.accuracy(y_test, y_pred)\n",
    "\n",
    "    results.append((version[\"label\"], model.loss[-1], acc))\n",
    "\n",
    "plt.xlabel(\"Iteration\")\n",
    "plt.ylabel(\"Loss\")\n",
    "plt.title(\"Logistic Regression: Loss vs Iterations\")\n",
    "plt.legend()\n",
    "plt.show()"
   ]
  },
  {
   "cell_type": "markdown",
   "id": "8109a6bf",
   "metadata": {},
   "source": [
    "The number of iterations didn't chance much, but the learning rate affected it the most. When I increased learning rate to 5e-3 it made the loss drop by a lot and increased accuracy compared to 1e-3. When increased to 10e-3 the loss also decreased, but the accuracy stays the same."
   ]
  },
  {
   "cell_type": "code",
   "execution_count": 88,
   "id": "3ec9ba62",
   "metadata": {},
   "outputs": [],
   "source": [
    "weights = {\n",
    "    \"W\": model.W,\n",
    "    \"b\": model.b,\n",
    "    \"lr\": model.lr,\n",
    "    \"n_iter\": model.num_iter,\n",
    "    \"accuracy\": acc\n",
    "}\n",
    "\n",
    "with open(\"a1_part_2_weights_JadenPeacock.pkl\", \"wb\") as f:\n",
    "    pickle.dump(weights, f)\n",
    "\n",
    "#This should save the weights into a pickle file\n"
   ]
  },
  {
   "cell_type": "markdown",
   "id": "e5c6df6e",
   "metadata": {},
   "source": [
    "my best performing parameters had to be either when learning rate was 10e-3 or 5e-3 I would lean more towards 5e-3, since I had gotten a higher accuarcy before but it decreased for some reason, so it shows that there is room for increased accuracy using 5e-3.\n",
    "\n",
    "The advantages and disadvantages to logistic regression is that it is simpler to implement compared to other models, but since it is a linear model if there isn't some type of relationship it will be hard to get a good relationship and therefore good results.\n",
    "\n",
    "I faced a few issues, for some reason my y wouldn't be the dimensions I needed them to be so for most of the functions i had to do a check and if it wasn't the dimensions I needed, I made then what I needed. I also had trouble with the fit and gradient descent functions, so I found examples of what other people did and tried to see where I went wrong with what I did."
   ]
  },
  {
   "cell_type": "markdown",
   "id": "d2ed6f39",
   "metadata": {},
   "source": [
    "References:\n",
    "https://wiki.python.org/moin/UsingPickle\n",
    "\n",
    "https://heena-sharma.medium.com/logistic-regression-python-implementation-from-scratch-without-using-sklearn-d3fca7d3dae7\n",
    "\n",
    "https://www.kaggle.com/code/sagira/logistic-regression-math-behind-without-sklearn\n"
   ]
  }
 ],
 "metadata": {
  "kernelspec": {
   "display_name": "venv (3.13.5)",
   "language": "python",
   "name": "python3"
  },
  "language_info": {
   "codemirror_mode": {
    "name": "ipython",
    "version": 3
   },
   "file_extension": ".py",
   "mimetype": "text/x-python",
   "name": "python",
   "nbconvert_exporter": "python",
   "pygments_lexer": "ipython3",
   "version": "3.13.5"
  }
 },
 "nbformat": 4,
 "nbformat_minor": 5
}
