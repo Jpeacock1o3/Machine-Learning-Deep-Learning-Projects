{
 "cells": [
  {
   "cell_type": "code",
   "execution_count": 1,
   "id": "f166fd4e",
   "metadata": {},
   "outputs": [],
   "source": [
    "import torch\n",
    "from torch import nn\n",
    "from torch.utils.data import DataLoader\n",
    "import pandas as pd\n",
    "import numpy as np\n",
    "import seaborn as sns\n",
    "import matplotlib.pyplot as plt\n",
    "from sklearn.model_selection import train_test_split\n",
    "from sklearn.preprocessing import StandardScaler\n",
    "import torch\n",
    "from torch.utils.data import TensorDataset, DataLoader\n",
    "from sklearn.metrics import accuracy_score, precision_recall_fscore_support\n",
    "import time"
   ]
  },
  {
   "cell_type": "code",
   "execution_count": 2,
   "id": "b8a2b8ba",
   "metadata": {},
   "outputs": [],
   "source": [
    "device = torch.device(\"mps\" if torch.backends.mps.is_available()\n",
    "                      else \"cuda\" if torch.cuda.is_available()\n",
    "                      else \"cpu\")"
   ]
  },
  {
   "cell_type": "code",
   "execution_count": 3,
   "id": "8e096059",
   "metadata": {},
   "outputs": [],
   "source": [
    "#reading the datafram\n",
    "raw_df = pd.read_csv(\"datasets/dataset.csv\")\n",
    "df = pd.DataFrame(raw_df)"
   ]
  },
  {
   "cell_type": "code",
   "execution_count": 4,
   "id": "a913c30a",
   "metadata": {},
   "outputs": [
    {
     "name": "stdout",
     "output_type": "stream",
     "text": [
      "First five rows of the data\n",
      "   f1   f2  f3  f4   f5    f6     f7  target\n",
      "0  6  148  72  35    0  33.6  0.627       1\n",
      "1  1   85  66  29    0  26.6  0.351       0\n",
      "2  8  183  64   0    0  23.3  0.672       1\n",
      "3  1   89  66  23   94  28.1  0.167       0\n",
      "4  0  137  40  35  168  43.1  2.288       1\n",
      "Stats of the data\n",
      "                f3      target\n",
      "count  766.000000  766.000000\n",
      "mean    69.118799    0.349869\n",
      "std     19.376901    0.477240\n",
      "min      0.000000    0.000000\n",
      "25%     62.500000    0.000000\n",
      "50%     72.000000    0.000000\n",
      "75%     80.000000    1.000000\n",
      "max    122.000000    1.000000\n",
      "<class 'pandas.core.frame.DataFrame'>\n",
      "RangeIndex: 766 entries, 0 to 765\n",
      "Data columns (total 8 columns):\n",
      " #   Column  Non-Null Count  Dtype \n",
      "---  ------  --------------  ----- \n",
      " 0   f1      766 non-null    object\n",
      " 1   f2      766 non-null    object\n",
      " 2   f3      766 non-null    int64 \n",
      " 3   f4      766 non-null    object\n",
      " 4   f5      766 non-null    object\n",
      " 5   f6      766 non-null    object\n",
      " 6   f7      766 non-null    object\n",
      " 7   target  766 non-null    int64 \n",
      "dtypes: int64(2), object(6)\n",
      "memory usage: 48.0+ KB\n",
      "datatypes of the data\n",
      " None\n"
     ]
    }
   ],
   "source": [
    "#stats of the dataframe\n",
    "print(\"First five rows of the data\\n\", df.head())\n",
    "print(\"Stats of the data\\n\", df.describe())\n",
    "print(\"datatypes of the data\\n\", df.info())"
   ]
  },
  {
   "cell_type": "code",
   "execution_count": 5,
   "id": "fa5661c3",
   "metadata": {},
   "outputs": [
    {
     "name": "stdout",
     "output_type": "stream",
     "text": [
      "<class 'pandas.core.frame.DataFrame'>\n",
      "RangeIndex: 766 entries, 0 to 765\n",
      "Data columns (total 8 columns):\n",
      " #   Column  Non-Null Count  Dtype \n",
      "---  ------  --------------  ----- \n",
      " 0   f1      766 non-null    object\n",
      " 1   f2      766 non-null    object\n",
      " 2   f3      766 non-null    int64 \n",
      " 3   f4      766 non-null    object\n",
      " 4   f5      766 non-null    object\n",
      " 5   f6      766 non-null    object\n",
      " 6   f7      766 non-null    object\n",
      " 7   target  766 non-null    int64 \n",
      "dtypes: int64(2), object(6)\n",
      "memory usage: 48.0+ KB\n",
      "datatypes of the data\n",
      " None\n"
     ]
    }
   ],
   "source": [
    "print(\"datatypes of the data\\n\", df.info())"
   ]
  },
  {
   "cell_type": "code",
   "execution_count": 6,
   "id": "5917460b",
   "metadata": {},
   "outputs": [
    {
     "data": {
      "text/html": [
       "<div>\n",
       "<style scoped>\n",
       "    .dataframe tbody tr th:only-of-type {\n",
       "        vertical-align: middle;\n",
       "    }\n",
       "\n",
       "    .dataframe tbody tr th {\n",
       "        vertical-align: top;\n",
       "    }\n",
       "\n",
       "    .dataframe thead th {\n",
       "        text-align: right;\n",
       "    }\n",
       "</style>\n",
       "<table border=\"1\" class=\"dataframe\">\n",
       "  <thead>\n",
       "    <tr style=\"text-align: right;\">\n",
       "      <th></th>\n",
       "      <th>f3</th>\n",
       "      <th>target</th>\n",
       "    </tr>\n",
       "  </thead>\n",
       "  <tbody>\n",
       "    <tr>\n",
       "      <th>count</th>\n",
       "      <td>766.000000</td>\n",
       "      <td>766.000000</td>\n",
       "    </tr>\n",
       "    <tr>\n",
       "      <th>mean</th>\n",
       "      <td>69.118799</td>\n",
       "      <td>0.349869</td>\n",
       "    </tr>\n",
       "    <tr>\n",
       "      <th>std</th>\n",
       "      <td>19.376901</td>\n",
       "      <td>0.477240</td>\n",
       "    </tr>\n",
       "    <tr>\n",
       "      <th>min</th>\n",
       "      <td>0.000000</td>\n",
       "      <td>0.000000</td>\n",
       "    </tr>\n",
       "    <tr>\n",
       "      <th>25%</th>\n",
       "      <td>62.500000</td>\n",
       "      <td>0.000000</td>\n",
       "    </tr>\n",
       "    <tr>\n",
       "      <th>50%</th>\n",
       "      <td>72.000000</td>\n",
       "      <td>0.000000</td>\n",
       "    </tr>\n",
       "    <tr>\n",
       "      <th>75%</th>\n",
       "      <td>80.000000</td>\n",
       "      <td>1.000000</td>\n",
       "    </tr>\n",
       "    <tr>\n",
       "      <th>max</th>\n",
       "      <td>122.000000</td>\n",
       "      <td>1.000000</td>\n",
       "    </tr>\n",
       "  </tbody>\n",
       "</table>\n",
       "</div>"
      ],
      "text/plain": [
       "               f3      target\n",
       "count  766.000000  766.000000\n",
       "mean    69.118799    0.349869\n",
       "std     19.376901    0.477240\n",
       "min      0.000000    0.000000\n",
       "25%     62.500000    0.000000\n",
       "50%     72.000000    0.000000\n",
       "75%     80.000000    1.000000\n",
       "max    122.000000    1.000000"
      ]
     },
     "execution_count": 6,
     "metadata": {},
     "output_type": "execute_result"
    }
   ],
   "source": [
    "df.describe()"
   ]
  },
  {
   "cell_type": "code",
   "execution_count": 7,
   "id": "33f7333e",
   "metadata": {},
   "outputs": [
    {
     "name": "stdout",
     "output_type": "stream",
     "text": [
      "['6' '1' '8' '0' '5' '3' '10' '2' '4' '7' '9' '11' '13' '15' '17' '12'\n",
      " '14' 'c']\n",
      "766\n"
     ]
    }
   ],
   "source": [
    "print(df['f1'].unique())\n",
    "print(df['f1'].value_counts().sum())\n"
   ]
  },
  {
   "cell_type": "code",
   "execution_count": 8,
   "id": "ff92e04c",
   "metadata": {},
   "outputs": [
    {
     "name": "stdout",
     "output_type": "stream",
     "text": [
      "[ 6.  1.  8.  0.  5.  3. 10.  2.  4.  7.  9. 11. 13. 15. 17. 12. 14.]\n",
      "766\n"
     ]
    }
   ],
   "source": [
    "#finding the categorical variables and turning them into ints\n",
    "cat = ['f1', 'f2', 'f4', 'f5', 'f6', 'f7']\n",
    "for i in cat:\n",
    "    df[i] = df[i].replace(r'[A-Za-z]', np.nan, regex=True) #remove any non numbers, and turn them into nans\n",
    "    df[i] = pd.to_numeric(df[i], errors='coerce') #turn objects to ints\n",
    "    df[i] = df[i].fillna(df[i].median())  # replace the NaN with median\n",
    "#checking to make sure the type is right, and no values were lost\n",
    "print(df['f1'].unique())\n",
    "print(df['f1'].value_counts().sum())\n",
    "\n",
    "\n"
   ]
  },
  {
   "cell_type": "code",
   "execution_count": 9,
   "id": "2109daeb",
   "metadata": {},
   "outputs": [
    {
     "name": "stdout",
     "output_type": "stream",
     "text": [
      "<class 'pandas.core.frame.DataFrame'>\n",
      "RangeIndex: 766 entries, 0 to 765\n",
      "Data columns (total 8 columns):\n",
      " #   Column  Non-Null Count  Dtype  \n",
      "---  ------  --------------  -----  \n",
      " 0   f1      766 non-null    float64\n",
      " 1   f2      766 non-null    float64\n",
      " 2   f3      766 non-null    int64  \n",
      " 3   f4      766 non-null    float64\n",
      " 4   f5      766 non-null    float64\n",
      " 5   f6      766 non-null    float64\n",
      " 6   f7      766 non-null    float64\n",
      " 7   target  766 non-null    int64  \n",
      "dtypes: float64(6), int64(2)\n",
      "memory usage: 48.0 KB\n"
     ]
    }
   ],
   "source": [
    "#all the types are now either ints or floats, no need to encode now\n",
    "df.info()"
   ]
  },
  {
   "cell_type": "code",
   "execution_count": 10,
   "id": "bb38c1f5",
   "metadata": {},
   "outputs": [
    {
     "data": {
      "text/plain": [
       "<Axes: >"
      ]
     },
     "execution_count": 10,
     "metadata": {},
     "output_type": "execute_result"
    },
    {
     "data": {
      "image/png": "[encoded data removed]",
      "text/plain": [
       "<Figure size 640x480 with 2 Axes>"
      ]
     },
     "metadata": {},
     "output_type": "display_data"
    }
   ],
   "source": [
    "#corr heatmap\n",
    "corr_matrix = df.corr()\n",
    "sns.heatmap(corr_matrix, annot=True)\n"
   ]
  },
  {
   "cell_type": "markdown",
   "id": "a368abbc",
   "metadata": {},
   "source": [
    "shows the correlation matrix to see what features affects target the most, can be helpful if you want to remove some features that don't affect it as much"
   ]
  },
  {
   "cell_type": "markdown",
   "id": "f4b38220",
   "metadata": {},
   "source": [
    "## Step 2 ##"
   ]
  },
  {
   "cell_type": "code",
   "execution_count": 11,
   "id": "9367b2e3",
   "metadata": {},
   "outputs": [],
   "source": [
    "#creates two dataframes, one for features and one for target\n",
    "features = df.drop(\"target\", axis=1)\n",
    "target = df[\"target\"]"
   ]
  },
  {
   "cell_type": "code",
   "execution_count": 12,
   "id": "338993f4",
   "metadata": {},
   "outputs": [],
   "source": [
    "#initial train test split to create training and test data\n",
    "X_train, X_test, y_train, y_test = train_test_split(\n",
    "    features, target, test_size=0.15, random_state=42\n",
    ")\n",
    "scaler = StandardScaler()\n",
    "X_train_scaled = scaler.fit_transform(X_train)\n",
    "X_test_scaled = scaler.transform(X_test)"
   ]
  },
  {
   "cell_type": "code",
   "execution_count": 13,
   "id": "1ecd9528",
   "metadata": {},
   "outputs": [],
   "source": [
    "#second train test split to create validation data\n",
    "X_train, X_val, y_train, y_val = train_test_split(\n",
    "    #makes the split 70:15:15\n",
    "    X_train, y_train, test_size=0.1764, random_state=42, stratify=y_train\n",
    ")"
   ]
  },
  {
   "cell_type": "code",
   "execution_count": 14,
   "id": "e94589a3",
   "metadata": {},
   "outputs": [],
   "source": [
    "#turning all the dataframes into numpy arrays\n",
    "X_train = np.asarray(X_train)\n",
    "X_val   = np.asarray(X_val)\n",
    "X_test  = np.asarray(X_test)\n",
    "y_train = np.asarray(y_train)\n",
    "y_val   = np.asarray(y_val)\n",
    "y_test  = np.asarray(y_test)"
   ]
  },
  {
   "cell_type": "code",
   "execution_count": 15,
   "id": "7e41a691",
   "metadata": {},
   "outputs": [],
   "source": [
    "#turning the numpy arrays into tensors so they are formatted correctly for the dataloaders\n",
    "SEED = 42\n",
    "torch.manual_seed(SEED)\n",
    "train_ds = TensorDataset(\n",
    "    torch.tensor(X_train, dtype=torch.float32),\n",
    "    torch.tensor(y_train, dtype=torch.float32)\n",
    ")\n",
    "val_ds = TensorDataset(\n",
    "    torch.tensor(X_val, dtype=torch.float32),\n",
    "    torch.tensor(y_val, dtype=torch.float32)\n",
    ")\n",
    "test_ds = TensorDataset(\n",
    "    torch.tensor(X_test, dtype=torch.float32),\n",
    "    torch.tensor(y_test, dtype=torch.float32))"
   ]
  },
  {
   "cell_type": "code",
   "execution_count": 16,
   "id": "2d6c5220",
   "metadata": {},
   "outputs": [],
   "source": [
    "#turning the tensors into dataloaders to make it work well with the neural net\n",
    "SEED = 42\n",
    "torch.manual_seed(SEED)\n",
    "\n",
    "if device.type == \"mps\":\n",
    "    dl_gen = torch.Generator(device=\"mps\").manual_seed(SEED)\n",
    "    X_train_dl = DataLoader(train_ds, batch_size=64, shuffle=True,  generator=dl_gen)\n",
    "else:\n",
    "    X_train_dl = DataLoader(train_ds, batch_size=64, shuffle=True)\n",
    "\n",
    "X_val_dl  = DataLoader(val_ds,  batch_size=64, shuffle=False)\n",
    "X_test_dl = DataLoader(test_ds, batch_size=64, shuffle=False)\n",
    "\n",
    "test_ds = TensorDataset(\n",
    "    torch.tensor(X_test, dtype=torch.float32),\n",
    "    torch.tensor(y_test, dtype=torch.float32)\n",
    ")\n",
    "X_test_dl = DataLoader(test_ds, batch_size=64, shuffle=False)\n",
    "    \n"
   ]
  },
  {
   "cell_type": "markdown",
   "id": "60265632",
   "metadata": {},
   "source": [
    "## Part 3 ##"
   ]
  },
  {
   "cell_type": "markdown",
   "id": "7e579b7b",
   "metadata": {},
   "source": [
    "NN architecture:\n",
    "* there will be 7 input neurons\n",
    "* there will be 1 output neuron\n",
    "* I'll use ReLU\n",
    "* for the output layer, since its linear I wont need one\n",
    "* 3 hidden layers\n",
    "* 64 nodes for each layer\n",
    "* I'll include dropout"
   ]
  },
  {
   "cell_type": "code",
   "execution_count": 17,
   "id": "3913dc52",
   "metadata": {},
   "outputs": [],
   "source": [
    "\n",
    "class NeuralNetwork(nn.Module):\n",
    "    def __init__(self):\n",
    "        super(NeuralNetwork, self).__init__()\n",
    "        # No flatten layer needed (we already have 7 features, not an image)\n",
    "        self.linear_relu_stack = nn.Sequential(\n",
    "            nn.Linear(7, 64),   # Input → Hidden layer 1\n",
    "            nn.ReLU(),\n",
    "            nn.Dropout(0.2),\n",
    "\n",
    "            nn.Linear(64, 64),  # Hidden layer 2\n",
    "            nn.ReLU(),\n",
    "            nn.Dropout(0.2),\n",
    "\n",
    "            nn.Linear(64, 64),  # Hidden layer 3\n",
    "            nn.ReLU(),\n",
    "            nn.Dropout(0.2),\n",
    "\n",
    "            nn.Linear(64, 1)    # Output layer (linear for regression)\n",
    "        )\n",
    "\n",
    "    def forward(self, x):\n",
    "        # forward pass through the stack\n",
    "        output = self.linear_relu_stack(x)\n",
    "        return output.squeeze(1)\n",
    "\n",
    "        "
   ]
  },
  {
   "cell_type": "code",
   "execution_count": 18,
   "id": "a53325c9",
   "metadata": {},
   "outputs": [
    {
     "name": "stdout",
     "output_type": "stream",
     "text": [
      "Using Apple MPS\n"
     ]
    }
   ],
   "source": [
    "#makes sure the device works on my macbook mps, hopefully works with other computers too\n",
    "device = torch.device(\"cpu\")\n",
    "gpu_idx = 0\n",
    "if torch.cuda.is_available():\n",
    "    device = torch.device(f\"cuda:{gpu_idx}\")\n",
    "    print(f\"Using CUDA @ device {gpu_idx}\")\n",
    "elif torch.backends.mps.is_available() and torch.backends.mps.is_built():\n",
    "    device = torch.device(\"mps\")\n",
    "    print(\"Using Apple MPS\")\n",
    "else:\n",
    "    print(\"Using CPU\")\n",
    "torch.set_default_device(device)"
   ]
  },
  {
   "cell_type": "code",
   "execution_count": 19,
   "id": "f55f6dc9",
   "metadata": {},
   "outputs": [
    {
     "name": "stdout",
     "output_type": "stream",
     "text": [
      "NeuralNetwork(\n",
      "  (linear_relu_stack): Sequential(\n",
      "    (0): Linear(in_features=7, out_features=64, bias=True)\n",
      "    (1): ReLU()\n",
      "    (2): Dropout(p=0.2, inplace=False)\n",
      "    (3): Linear(in_features=64, out_features=64, bias=True)\n",
      "    (4): ReLU()\n",
      "    (5): Dropout(p=0.2, inplace=False)\n",
      "    (6): Linear(in_features=64, out_features=64, bias=True)\n",
      "    (7): ReLU()\n",
      "    (8): Dropout(p=0.2, inplace=False)\n",
      "    (9): Linear(in_features=64, out_features=1, bias=True)\n",
      "  )\n",
      ")\n"
     ]
    }
   ],
   "source": [
    "model = NeuralNetwork().to(device)\n",
    "print(model)\n",
    "\n",
    "#Build model\n",
    "model = NeuralNetwork()\n",
    "\n",
    "# Move to device before creating optimizer\n",
    "model = model.to(device)\n",
    "\n",
    "# Now create the optimizer\n",
    "loss = torch.nn.BCEWithLogitsLoss()\n",
    "optimizer = torch.optim.Adam(model.parameters(), lr=1e-3)"
   ]
  },
  {
   "cell_type": "markdown",
   "id": "e78999ca",
   "metadata": {},
   "source": [
    "I am using adam optimizer, I've seen a lot of online forums talk about it being one of the best for neural nets, and I was having bad accuracy problems before, and adam increased my accuracy. I am also using BCE specifically with Logit loss. having the Logit loss allows the code to be simple."
   ]
  },
  {
   "cell_type": "code",
   "execution_count": 20,
   "id": "00e2d3ca",
   "metadata": {},
   "outputs": [
    {
     "data": {
      "text/plain": [
       "==========================================================================================\n",
       "Layer (type:depth-idx)                   Output Shape              Param #\n",
       "==========================================================================================\n",
       "NeuralNetwork                            [16]                      --\n",
       "├─Sequential: 1-1                        [16, 1]                   --\n",
       "│    └─Linear: 2-1                       [16, 64]                  512\n",
       "│    └─ReLU: 2-2                         [16, 64]                  --\n",
       "│    └─Dropout: 2-3                      [16, 64]                  --\n",
       "│    └─Linear: 2-4                       [16, 64]                  4,160\n",
       "│    └─ReLU: 2-5                         [16, 64]                  --\n",
       "│    └─Dropout: 2-6                      [16, 64]                  --\n",
       "│    └─Linear: 2-7                       [16, 64]                  4,160\n",
       "│    └─ReLU: 2-8                         [16, 64]                  --\n",
       "│    └─Dropout: 2-9                      [16, 64]                  --\n",
       "│    └─Linear: 2-10                      [16, 1]                   65\n",
       "==========================================================================================\n",
       "Total params: 8,897\n",
       "Trainable params: 8,897\n",
       "Non-trainable params: 0\n",
       "Total mult-adds (Units.MEGABYTES): 0.14\n",
       "==========================================================================================\n",
       "Input size (MB): 0.00\n",
       "Forward/backward pass size (MB): 0.02\n",
       "Params size (MB): 0.04\n",
       "Estimated Total Size (MB): 0.06\n",
       "=========================================================================================="
      ]
     },
     "execution_count": 20,
     "metadata": {},
     "output_type": "execute_result"
    }
   ],
   "source": [
    "from torchinfo import summary\n",
    "\n",
    "batch_size = 16\n",
    "summary(model, input_size=(batch_size, 7))"
   ]
  },
  {
   "cell_type": "code",
   "execution_count": 21,
   "id": "76e4dbe2",
   "metadata": {},
   "outputs": [],
   "source": [
    "#each epoch this is called\n",
    "def epoch_step(dataloader, model, loss_fn, optimizer=None):\n",
    "    #makes the train mode the optimizer I am using\n",
    "    train_mode = optimizer is not None\n",
    "    #this is function that signals the model to be in training mode with that optimizer\n",
    "    model.train(train_mode)                   \n",
    "    #keeps track of the current loss, mae, and sample \n",
    "    running_loss, running_mae, n = 0.0, 0.0, 0\n",
    "\n",
    "    #enables gradient if we have train_mode on\n",
    "    context = torch.enable_grad() if train_mode else torch.no_grad()\n",
    "\n",
    "    #keeps track of the total loss, total correct, and total samples\n",
    "    total_loss, total_correct, total_n = 0.0, 0, 0\n",
    "    with context:\n",
    "        for xb, yb in dataloader:\n",
    "            xb, yb = xb.to(device), yb.to(device)\n",
    "\n",
    "            if train_mode:\n",
    "                optimizer.zero_grad()\n",
    "\n",
    "            logits = model(xb)                        \n",
    "            loss = loss_fn(logits.view(-1), yb.view(-1))\n",
    "\n",
    "            if train_mode:\n",
    "                loss.backward()\n",
    "                optimizer.step()\n",
    "\n",
    "            total_loss += loss.item() * xb.size(0)\n",
    "            preds = (torch.sigmoid(logits.view(-1)) >= 0.5).long()\n",
    "            total_correct += (preds == yb.long().view(-1)).sum().item()\n",
    "            total_n += xb.size(0)\n",
    "\n",
    "    return total_loss/total_n, total_correct/total_n\n",
    "\n",
    "\n",
    "# training loop\n",
    "def train_model(model, train_dl, val_dl, epochs=500):\n",
    "    #keeps track of all the stats of the model\n",
    "    history = {\"train_loss\": [], \"val_loss\": [], \"train_mae\": [], \"val_mae\": [], \"epoch_time_sec\": []}\n",
    "    #keeps the best value\n",
    "    best_val = float(\"inf\")\n",
    "    #remembers the best state of the model\n",
    "    best_state = None\n",
    "\n",
    "    for epoch in range(1, epochs + 1):\n",
    "        t0 = time.time()\n",
    " \n",
    "        #training\n",
    "        train_loss, train_mae = epoch_step(train_dl, model, loss, optimizer=optimizer)\n",
    "\n",
    "        # validation with no optimizer and no grad\n",
    "        val_loss, val_mae = epoch_step(val_dl, model, loss, optimizer=None)\n",
    "\n",
    "        \n",
    "        #keeps track of the epoch so I know how long its been training\n",
    "        epoch_time = time.time() - t0\n",
    "        #adds all stats to the history\n",
    "        history[\"train_loss\"].append(train_loss)\n",
    "        history[\"val_loss\"].append(val_loss)\n",
    "        history[\"train_mae\"].append(train_mae)\n",
    "        history[\"val_mae\"].append(val_mae)\n",
    "        history[\"epoch_time_sec\"].append(epoch_time)\n",
    "\n",
    "        #prints all the stats of each epoch so I can visually see it\n",
    "        print(f\"Epoch {epoch:03d} | \"\n",
    "              f\"train_loss={train_loss:.5f}  val_loss={val_loss:.5f} | \"\n",
    "              f\"train_MAE={train_mae:.4f}  val_MAE={val_mae:.4f} | \"\n",
    "              f\"lr={optimizer.param_groups[0]['lr']:.5g} | \"\n",
    "              f\"time={epoch_time:.2f}s\")\n",
    "\n",
    "        # keeps track of best state for the validation loss\n",
    "        if val_loss < best_val - 1e-8:\n",
    "            best_val = val_loss\n",
    "            best_state = {k: v.detach().cpu().clone() for k, v in model.state_dict().items()}\n",
    "           \n",
    "        \n",
    "\n",
    "    # load best weights (by validation loss)\n",
    "    if best_state is not None:\n",
    "        model.load_state_dict({k: v.to(device) for k, v in best_state.items()})\n",
    "\n",
    "    print(f\"Total training time: {sum(history['epoch_time_sec']):.2f}s\")\n",
    "    return history\n",
    "\n"
   ]
  },
  {
   "cell_type": "code",
   "execution_count": 22,
   "id": "e9ce405f",
   "metadata": {},
   "outputs": [
    {
     "name": "stdout",
     "output_type": "stream",
     "text": [
      "Epoch 001 | train_loss=1.17562  val_loss=0.81943 | train_MAE=0.5578  val_MAE=0.6522 | lr=0.001 | time=4.51s\n",
      "Epoch 002 | train_loss=1.00352  val_loss=0.66550 | train_MAE=0.5522  val_MAE=0.6435 | lr=0.001 | time=0.07s\n",
      "Epoch 003 | train_loss=0.81880  val_loss=0.64069 | train_MAE=0.5578  val_MAE=0.6696 | lr=0.001 | time=0.07s\n",
      "Epoch 004 | train_loss=0.76542  val_loss=0.64895 | train_MAE=0.6175  val_MAE=0.6696 | lr=0.001 | time=0.07s\n",
      "Epoch 005 | train_loss=0.81508  val_loss=0.65486 | train_MAE=0.5616  val_MAE=0.6696 | lr=0.001 | time=0.07s\n",
      "Epoch 006 | train_loss=0.76588  val_loss=0.65786 | train_MAE=0.5970  val_MAE=0.6522 | lr=0.001 | time=0.07s\n",
      "Epoch 007 | train_loss=0.69019  val_loss=0.65166 | train_MAE=0.6306  val_MAE=0.6957 | lr=0.001 | time=0.07s\n",
      "Epoch 008 | train_loss=0.70402  val_loss=0.64164 | train_MAE=0.6231  val_MAE=0.7043 | lr=0.001 | time=0.07s\n",
      "Epoch 009 | train_loss=0.68414  val_loss=0.63337 | train_MAE=0.6231  val_MAE=0.7130 | lr=0.001 | time=0.07s\n",
      "Epoch 010 | train_loss=0.65179  val_loss=0.62963 | train_MAE=0.6567  val_MAE=0.6696 | lr=0.001 | time=0.07s\n",
      "Epoch 011 | train_loss=0.68551  val_loss=0.63080 | train_MAE=0.6250  val_MAE=0.6870 | lr=0.001 | time=0.07s\n",
      "Epoch 012 | train_loss=0.70694  val_loss=0.62769 | train_MAE=0.5821  val_MAE=0.6957 | lr=0.001 | time=0.07s\n",
      "Epoch 013 | train_loss=0.67065  val_loss=0.63181 | train_MAE=0.6306  val_MAE=0.6783 | lr=0.001 | time=0.07s\n",
      "Epoch 014 | train_loss=0.67057  val_loss=0.62681 | train_MAE=0.6343  val_MAE=0.7043 | lr=0.001 | time=0.07s\n",
      "Epoch 015 | train_loss=0.67116  val_loss=0.62409 | train_MAE=0.6119  val_MAE=0.7043 | lr=0.001 | time=0.07s\n",
      "Epoch 016 | train_loss=0.66170  val_loss=0.61921 | train_MAE=0.6455  val_MAE=0.6783 | lr=0.001 | time=0.07s\n",
      "Epoch 017 | train_loss=0.67756  val_loss=0.61458 | train_MAE=0.6343  val_MAE=0.6957 | lr=0.001 | time=0.07s\n",
      "Epoch 018 | train_loss=0.67111  val_loss=0.61741 | train_MAE=0.6213  val_MAE=0.6957 | lr=0.001 | time=0.07s\n",
      "Epoch 019 | train_loss=0.65862  val_loss=0.61606 | train_MAE=0.6586  val_MAE=0.6957 | lr=0.001 | time=0.07s\n",
      "Epoch 020 | train_loss=0.64852  val_loss=0.61339 | train_MAE=0.6474  val_MAE=0.6783 | lr=0.001 | time=0.07s\n",
      "Epoch 021 | train_loss=0.63562  val_loss=0.62213 | train_MAE=0.6866  val_MAE=0.6783 | lr=0.001 | time=0.07s\n",
      "Epoch 022 | train_loss=0.64242  val_loss=0.62387 | train_MAE=0.6306  val_MAE=0.6957 | lr=0.001 | time=0.07s\n",
      "Epoch 023 | train_loss=0.62999  val_loss=0.61524 | train_MAE=0.6847  val_MAE=0.7043 | lr=0.001 | time=0.07s\n",
      "Epoch 024 | train_loss=0.66746  val_loss=0.60573 | train_MAE=0.6362  val_MAE=0.6870 | lr=0.001 | time=0.07s\n",
      "Epoch 025 | train_loss=0.64151  val_loss=0.60448 | train_MAE=0.6493  val_MAE=0.6957 | lr=0.001 | time=0.07s\n",
      "Epoch 026 | train_loss=0.63842  val_loss=0.60579 | train_MAE=0.6493  val_MAE=0.6870 | lr=0.001 | time=0.07s\n",
      "Epoch 027 | train_loss=0.64073  val_loss=0.60014 | train_MAE=0.6604  val_MAE=0.7043 | lr=0.001 | time=0.07s\n",
      "Epoch 028 | train_loss=0.62599  val_loss=0.58726 | train_MAE=0.6660  val_MAE=0.7130 | lr=0.001 | time=0.07s\n",
      "Epoch 029 | train_loss=0.62807  val_loss=0.58248 | train_MAE=0.7052  val_MAE=0.6957 | lr=0.001 | time=0.07s\n",
      "Epoch 030 | train_loss=0.63251  val_loss=0.58859 | train_MAE=0.6884  val_MAE=0.6957 | lr=0.001 | time=0.07s\n",
      "Epoch 031 | train_loss=0.63121  val_loss=0.59872 | train_MAE=0.6511  val_MAE=0.6870 | lr=0.001 | time=0.07s\n",
      "Epoch 032 | train_loss=0.62829  val_loss=0.60588 | train_MAE=0.6698  val_MAE=0.6783 | lr=0.001 | time=0.07s\n",
      "Epoch 033 | train_loss=0.63837  val_loss=0.59767 | train_MAE=0.6437  val_MAE=0.6783 | lr=0.001 | time=0.07s\n",
      "Epoch 034 | train_loss=0.62398  val_loss=0.59667 | train_MAE=0.6828  val_MAE=0.7043 | lr=0.001 | time=0.07s\n",
      "Epoch 035 | train_loss=0.61581  val_loss=0.60171 | train_MAE=0.6810  val_MAE=0.6870 | lr=0.001 | time=0.07s\n",
      "Epoch 036 | train_loss=0.62776  val_loss=0.59726 | train_MAE=0.6698  val_MAE=0.6870 | lr=0.001 | time=0.07s\n",
      "Epoch 037 | train_loss=0.63059  val_loss=0.60878 | train_MAE=0.6399  val_MAE=0.6870 | lr=0.001 | time=0.07s\n",
      "Epoch 038 | train_loss=0.61771  val_loss=0.60815 | train_MAE=0.6828  val_MAE=0.6870 | lr=0.001 | time=0.07s\n",
      "Epoch 039 | train_loss=0.62053  val_loss=0.59984 | train_MAE=0.6698  val_MAE=0.6957 | lr=0.001 | time=0.07s\n",
      "Epoch 040 | train_loss=0.61394  val_loss=0.59270 | train_MAE=0.6679  val_MAE=0.6783 | lr=0.001 | time=0.07s\n",
      "Epoch 041 | train_loss=0.64317  val_loss=0.58773 | train_MAE=0.6399  val_MAE=0.6696 | lr=0.001 | time=0.07s\n",
      "Epoch 042 | train_loss=0.60940  val_loss=0.58578 | train_MAE=0.6810  val_MAE=0.6783 | lr=0.001 | time=0.07s\n",
      "Epoch 043 | train_loss=0.62174  val_loss=0.58979 | train_MAE=0.6698  val_MAE=0.6870 | lr=0.001 | time=0.07s\n",
      "Epoch 044 | train_loss=0.61708  val_loss=0.59780 | train_MAE=0.6660  val_MAE=0.6957 | lr=0.001 | time=0.07s\n",
      "Epoch 045 | train_loss=0.60505  val_loss=0.59699 | train_MAE=0.6847  val_MAE=0.7130 | lr=0.001 | time=0.07s\n",
      "Epoch 046 | train_loss=0.59769  val_loss=0.58899 | train_MAE=0.6791  val_MAE=0.7130 | lr=0.001 | time=0.07s\n",
      "Epoch 047 | train_loss=0.62194  val_loss=0.59381 | train_MAE=0.6847  val_MAE=0.6957 | lr=0.001 | time=0.07s\n",
      "Epoch 048 | train_loss=0.59549  val_loss=0.58572 | train_MAE=0.6810  val_MAE=0.6957 | lr=0.001 | time=0.07s\n",
      "Epoch 049 | train_loss=0.59338  val_loss=0.57715 | train_MAE=0.6978  val_MAE=0.7043 | lr=0.001 | time=0.07s\n",
      "Epoch 050 | train_loss=0.61208  val_loss=0.58225 | train_MAE=0.6455  val_MAE=0.6870 | lr=0.001 | time=0.07s\n",
      "Epoch 051 | train_loss=0.59904  val_loss=0.58392 | train_MAE=0.6959  val_MAE=0.6870 | lr=0.001 | time=0.07s\n",
      "Epoch 052 | train_loss=0.61155  val_loss=0.58541 | train_MAE=0.6716  val_MAE=0.7130 | lr=0.001 | time=0.07s\n",
      "Epoch 053 | train_loss=0.58831  val_loss=0.58268 | train_MAE=0.6791  val_MAE=0.6957 | lr=0.001 | time=0.07s\n",
      "Epoch 054 | train_loss=0.61858  val_loss=0.58587 | train_MAE=0.6735  val_MAE=0.6870 | lr=0.001 | time=0.06s\n",
      "Epoch 055 | train_loss=0.62662  val_loss=0.59707 | train_MAE=0.6567  val_MAE=0.6870 | lr=0.001 | time=0.07s\n",
      "Epoch 056 | train_loss=0.59974  val_loss=0.60318 | train_MAE=0.6959  val_MAE=0.6957 | lr=0.001 | time=0.07s\n",
      "Epoch 057 | train_loss=0.59185  val_loss=0.59663 | train_MAE=0.7015  val_MAE=0.7130 | lr=0.001 | time=0.07s\n",
      "Epoch 058 | train_loss=0.59494  val_loss=0.58892 | train_MAE=0.6586  val_MAE=0.6957 | lr=0.001 | time=0.07s\n",
      "Epoch 059 | train_loss=0.58879  val_loss=0.58627 | train_MAE=0.6772  val_MAE=0.6957 | lr=0.001 | time=0.07s\n",
      "Epoch 060 | train_loss=0.60698  val_loss=0.57570 | train_MAE=0.6791  val_MAE=0.7043 | lr=0.001 | time=0.07s\n",
      "Epoch 061 | train_loss=0.60282  val_loss=0.57666 | train_MAE=0.6698  val_MAE=0.6870 | lr=0.001 | time=0.07s\n",
      "Epoch 062 | train_loss=0.58350  val_loss=0.57983 | train_MAE=0.6884  val_MAE=0.6957 | lr=0.001 | time=0.07s\n",
      "Epoch 063 | train_loss=0.59174  val_loss=0.57589 | train_MAE=0.6754  val_MAE=0.6870 | lr=0.001 | time=0.07s\n",
      "Epoch 064 | train_loss=0.60337  val_loss=0.57543 | train_MAE=0.6586  val_MAE=0.6957 | lr=0.001 | time=0.07s\n",
      "Epoch 065 | train_loss=0.58079  val_loss=0.57575 | train_MAE=0.6772  val_MAE=0.7130 | lr=0.001 | time=0.07s\n",
      "Epoch 066 | train_loss=0.57481  val_loss=0.57338 | train_MAE=0.7090  val_MAE=0.6957 | lr=0.001 | time=0.07s\n",
      "Epoch 067 | train_loss=0.57987  val_loss=0.57075 | train_MAE=0.6866  val_MAE=0.7130 | lr=0.001 | time=0.07s\n",
      "Epoch 068 | train_loss=0.58769  val_loss=0.57557 | train_MAE=0.6828  val_MAE=0.6957 | lr=0.001 | time=0.07s\n",
      "Epoch 069 | train_loss=0.59600  val_loss=0.56444 | train_MAE=0.6716  val_MAE=0.6957 | lr=0.001 | time=0.07s\n",
      "Epoch 070 | train_loss=0.57311  val_loss=0.56623 | train_MAE=0.6996  val_MAE=0.7130 | lr=0.001 | time=0.07s\n",
      "Epoch 071 | train_loss=0.58933  val_loss=0.57401 | train_MAE=0.6996  val_MAE=0.7130 | lr=0.001 | time=0.07s\n",
      "Epoch 072 | train_loss=0.57805  val_loss=0.57301 | train_MAE=0.7034  val_MAE=0.7043 | lr=0.001 | time=0.07s\n",
      "Epoch 073 | train_loss=0.60746  val_loss=0.57325 | train_MAE=0.6810  val_MAE=0.6957 | lr=0.001 | time=0.07s\n",
      "Epoch 074 | train_loss=0.58783  val_loss=0.57233 | train_MAE=0.6772  val_MAE=0.7043 | lr=0.001 | time=0.07s\n",
      "Epoch 075 | train_loss=0.59040  val_loss=0.57579 | train_MAE=0.6978  val_MAE=0.7043 | lr=0.001 | time=0.07s\n",
      "Epoch 076 | train_loss=0.60002  val_loss=0.57012 | train_MAE=0.6679  val_MAE=0.7043 | lr=0.001 | time=0.07s\n",
      "Epoch 077 | train_loss=0.59176  val_loss=0.57555 | train_MAE=0.6866  val_MAE=0.6957 | lr=0.001 | time=0.07s\n",
      "Epoch 078 | train_loss=0.57210  val_loss=0.57450 | train_MAE=0.7239  val_MAE=0.7043 | lr=0.001 | time=0.07s\n",
      "Epoch 079 | train_loss=0.58318  val_loss=0.57397 | train_MAE=0.6922  val_MAE=0.6870 | lr=0.001 | time=0.07s\n",
      "Epoch 080 | train_loss=0.58327  val_loss=0.57376 | train_MAE=0.6772  val_MAE=0.6957 | lr=0.001 | time=0.07s\n",
      "Epoch 081 | train_loss=0.58037  val_loss=0.57504 | train_MAE=0.6996  val_MAE=0.7043 | lr=0.001 | time=0.07s\n",
      "Epoch 082 | train_loss=0.58074  val_loss=0.57394 | train_MAE=0.6940  val_MAE=0.7043 | lr=0.001 | time=0.07s\n",
      "Epoch 083 | train_loss=0.59447  val_loss=0.56329 | train_MAE=0.6847  val_MAE=0.7304 | lr=0.001 | time=0.07s\n",
      "Epoch 084 | train_loss=0.57258  val_loss=0.56525 | train_MAE=0.6922  val_MAE=0.7130 | lr=0.001 | time=0.07s\n",
      "Epoch 085 | train_loss=0.57075  val_loss=0.58196 | train_MAE=0.6866  val_MAE=0.7304 | lr=0.001 | time=0.07s\n",
      "Epoch 086 | train_loss=0.57410  val_loss=0.56566 | train_MAE=0.7052  val_MAE=0.7217 | lr=0.001 | time=0.07s\n",
      "Epoch 087 | train_loss=0.57524  val_loss=0.56837 | train_MAE=0.6791  val_MAE=0.7130 | lr=0.001 | time=0.07s\n",
      "Epoch 088 | train_loss=0.57269  val_loss=0.57597 | train_MAE=0.7071  val_MAE=0.7130 | lr=0.001 | time=0.07s\n",
      "Epoch 089 | train_loss=0.59338  val_loss=0.57728 | train_MAE=0.6884  val_MAE=0.7043 | lr=0.001 | time=0.07s\n",
      "Epoch 090 | train_loss=0.56684  val_loss=0.57127 | train_MAE=0.6996  val_MAE=0.7043 | lr=0.001 | time=0.07s\n",
      "Epoch 091 | train_loss=0.57775  val_loss=0.57386 | train_MAE=0.6940  val_MAE=0.7043 | lr=0.001 | time=0.07s\n",
      "Epoch 092 | train_loss=0.56873  val_loss=0.57320 | train_MAE=0.6940  val_MAE=0.7217 | lr=0.001 | time=0.07s\n",
      "Epoch 093 | train_loss=0.57212  val_loss=0.57301 | train_MAE=0.6940  val_MAE=0.7304 | lr=0.001 | time=0.07s\n",
      "Epoch 094 | train_loss=0.58445  val_loss=0.57476 | train_MAE=0.6940  val_MAE=0.6957 | lr=0.001 | time=0.07s\n",
      "Epoch 095 | train_loss=0.57470  val_loss=0.57030 | train_MAE=0.6884  val_MAE=0.6870 | lr=0.001 | time=0.07s\n",
      "Epoch 096 | train_loss=0.57170  val_loss=0.57044 | train_MAE=0.6828  val_MAE=0.7217 | lr=0.001 | time=0.07s\n",
      "Epoch 097 | train_loss=0.57415  val_loss=0.57776 | train_MAE=0.6903  val_MAE=0.7217 | lr=0.001 | time=0.07s\n",
      "Epoch 098 | train_loss=0.56825  val_loss=0.57822 | train_MAE=0.6996  val_MAE=0.7217 | lr=0.001 | time=0.07s\n",
      "Epoch 099 | train_loss=0.56726  val_loss=0.57648 | train_MAE=0.7183  val_MAE=0.7130 | lr=0.001 | time=0.07s\n",
      "Epoch 100 | train_loss=0.55959  val_loss=0.58004 | train_MAE=0.7015  val_MAE=0.7217 | lr=0.001 | time=0.07s\n",
      "Epoch 101 | train_loss=0.58228  val_loss=0.58310 | train_MAE=0.6866  val_MAE=0.6957 | lr=0.001 | time=0.07s\n",
      "Epoch 102 | train_loss=0.56056  val_loss=0.57207 | train_MAE=0.7108  val_MAE=0.7043 | lr=0.001 | time=0.07s\n",
      "Epoch 103 | train_loss=0.57173  val_loss=0.56712 | train_MAE=0.6996  val_MAE=0.7130 | lr=0.001 | time=0.07s\n",
      "Epoch 104 | train_loss=0.56104  val_loss=0.58297 | train_MAE=0.6959  val_MAE=0.7043 | lr=0.001 | time=0.07s\n",
      "Epoch 105 | train_loss=0.57730  val_loss=0.57239 | train_MAE=0.6996  val_MAE=0.7304 | lr=0.001 | time=0.07s\n",
      "Epoch 106 | train_loss=0.56414  val_loss=0.56897 | train_MAE=0.6940  val_MAE=0.7304 | lr=0.001 | time=0.07s\n",
      "Epoch 107 | train_loss=0.56152  val_loss=0.57766 | train_MAE=0.7108  val_MAE=0.7217 | lr=0.001 | time=0.07s\n",
      "Epoch 108 | train_loss=0.56805  val_loss=0.56851 | train_MAE=0.7071  val_MAE=0.7043 | lr=0.001 | time=0.07s\n",
      "Epoch 109 | train_loss=0.58253  val_loss=0.56312 | train_MAE=0.6940  val_MAE=0.7304 | lr=0.001 | time=0.07s\n",
      "Epoch 110 | train_loss=0.56428  val_loss=0.57812 | train_MAE=0.6903  val_MAE=0.7217 | lr=0.001 | time=0.15s\n",
      "Epoch 111 | train_loss=0.57893  val_loss=0.58113 | train_MAE=0.7071  val_MAE=0.7130 | lr=0.001 | time=0.07s\n",
      "Epoch 112 | train_loss=0.55895  val_loss=0.57085 | train_MAE=0.7164  val_MAE=0.7130 | lr=0.001 | time=0.07s\n",
      "Epoch 113 | train_loss=0.55687  val_loss=0.57182 | train_MAE=0.7108  val_MAE=0.7304 | lr=0.001 | time=0.07s\n",
      "Epoch 114 | train_loss=0.56579  val_loss=0.57657 | train_MAE=0.7164  val_MAE=0.7130 | lr=0.001 | time=0.07s\n",
      "Epoch 115 | train_loss=0.55818  val_loss=0.56912 | train_MAE=0.7164  val_MAE=0.7217 | lr=0.001 | time=0.07s\n",
      "Epoch 116 | train_loss=0.56180  val_loss=0.57640 | train_MAE=0.6996  val_MAE=0.7217 | lr=0.001 | time=0.07s\n",
      "Epoch 117 | train_loss=0.56418  val_loss=0.57811 | train_MAE=0.6959  val_MAE=0.7130 | lr=0.001 | time=0.07s\n",
      "Epoch 118 | train_loss=0.55625  val_loss=0.56450 | train_MAE=0.6978  val_MAE=0.7217 | lr=0.001 | time=0.07s\n",
      "Epoch 119 | train_loss=0.56191  val_loss=0.56445 | train_MAE=0.6922  val_MAE=0.7217 | lr=0.001 | time=0.07s\n",
      "Epoch 120 | train_loss=0.54895  val_loss=0.56600 | train_MAE=0.7164  val_MAE=0.7391 | lr=0.001 | time=0.07s\n",
      "Epoch 121 | train_loss=0.54701  val_loss=0.56372 | train_MAE=0.7090  val_MAE=0.6957 | lr=0.001 | time=0.07s\n",
      "Epoch 122 | train_loss=0.55394  val_loss=0.56668 | train_MAE=0.7090  val_MAE=0.7130 | lr=0.001 | time=0.06s\n",
      "Epoch 123 | train_loss=0.54185  val_loss=0.57573 | train_MAE=0.7127  val_MAE=0.7130 | lr=0.001 | time=0.09s\n",
      "Epoch 124 | train_loss=0.54549  val_loss=0.57033 | train_MAE=0.7071  val_MAE=0.7391 | lr=0.001 | time=0.07s\n",
      "Epoch 125 | train_loss=0.56119  val_loss=0.56183 | train_MAE=0.7108  val_MAE=0.7304 | lr=0.001 | time=0.07s\n",
      "Epoch 126 | train_loss=0.54995  val_loss=0.57007 | train_MAE=0.7201  val_MAE=0.7130 | lr=0.001 | time=0.07s\n",
      "Epoch 127 | train_loss=0.56136  val_loss=0.56649 | train_MAE=0.7034  val_MAE=0.7130 | lr=0.001 | time=0.07s\n",
      "Epoch 128 | train_loss=0.54949  val_loss=0.56529 | train_MAE=0.7071  val_MAE=0.7391 | lr=0.001 | time=0.07s\n",
      "Epoch 129 | train_loss=0.55551  val_loss=0.56100 | train_MAE=0.7090  val_MAE=0.7304 | lr=0.001 | time=0.07s\n",
      "Epoch 130 | train_loss=0.56084  val_loss=0.56618 | train_MAE=0.6978  val_MAE=0.7130 | lr=0.001 | time=0.07s\n",
      "Epoch 131 | train_loss=0.55700  val_loss=0.56945 | train_MAE=0.7052  val_MAE=0.7217 | lr=0.001 | time=0.07s\n",
      "Epoch 132 | train_loss=0.56596  val_loss=0.56749 | train_MAE=0.7052  val_MAE=0.7304 | lr=0.001 | time=0.07s\n",
      "Epoch 133 | train_loss=0.55762  val_loss=0.57165 | train_MAE=0.7108  val_MAE=0.7130 | lr=0.001 | time=0.07s\n",
      "Epoch 134 | train_loss=0.54305  val_loss=0.57908 | train_MAE=0.7146  val_MAE=0.6957 | lr=0.001 | time=0.07s\n",
      "Epoch 135 | train_loss=0.54902  val_loss=0.56848 | train_MAE=0.7146  val_MAE=0.7043 | lr=0.001 | time=0.07s\n",
      "Epoch 136 | train_loss=0.54865  val_loss=0.57179 | train_MAE=0.7108  val_MAE=0.7217 | lr=0.001 | time=0.07s\n",
      "Epoch 137 | train_loss=0.55115  val_loss=0.57371 | train_MAE=0.7183  val_MAE=0.7304 | lr=0.001 | time=0.07s\n",
      "Epoch 138 | train_loss=0.54359  val_loss=0.56864 | train_MAE=0.7146  val_MAE=0.7304 | lr=0.001 | time=0.07s\n",
      "Epoch 139 | train_loss=0.54924  val_loss=0.56558 | train_MAE=0.7220  val_MAE=0.7304 | lr=0.001 | time=0.07s\n",
      "Epoch 140 | train_loss=0.57400  val_loss=0.56997 | train_MAE=0.6810  val_MAE=0.7304 | lr=0.001 | time=0.07s\n",
      "Epoch 141 | train_loss=0.55017  val_loss=0.56741 | train_MAE=0.7127  val_MAE=0.7304 | lr=0.001 | time=0.07s\n",
      "Epoch 142 | train_loss=0.54725  val_loss=0.56329 | train_MAE=0.7090  val_MAE=0.7304 | lr=0.001 | time=0.07s\n",
      "Epoch 143 | train_loss=0.56128  val_loss=0.57201 | train_MAE=0.7034  val_MAE=0.7130 | lr=0.001 | time=0.07s\n",
      "Epoch 144 | train_loss=0.56504  val_loss=0.56208 | train_MAE=0.7257  val_MAE=0.7043 | lr=0.001 | time=0.07s\n",
      "Epoch 145 | train_loss=0.54308  val_loss=0.56969 | train_MAE=0.7052  val_MAE=0.7304 | lr=0.001 | time=0.07s\n",
      "Epoch 146 | train_loss=0.53202  val_loss=0.57507 | train_MAE=0.7295  val_MAE=0.7217 | lr=0.001 | time=0.07s\n",
      "Epoch 147 | train_loss=0.55198  val_loss=0.56882 | train_MAE=0.7351  val_MAE=0.6957 | lr=0.001 | time=0.08s\n",
      "Epoch 148 | train_loss=0.54896  val_loss=0.56923 | train_MAE=0.7146  val_MAE=0.7130 | lr=0.001 | time=0.06s\n",
      "Epoch 149 | train_loss=0.54303  val_loss=0.58684 | train_MAE=0.7220  val_MAE=0.7217 | lr=0.001 | time=0.07s\n",
      "Epoch 150 | train_loss=0.55196  val_loss=0.57415 | train_MAE=0.6996  val_MAE=0.7217 | lr=0.001 | time=0.08s\n",
      "Epoch 151 | train_loss=0.53937  val_loss=0.57232 | train_MAE=0.7220  val_MAE=0.7217 | lr=0.001 | time=0.07s\n",
      "Epoch 152 | train_loss=0.55566  val_loss=0.56850 | train_MAE=0.7257  val_MAE=0.7130 | lr=0.001 | time=0.07s\n",
      "Epoch 153 | train_loss=0.53335  val_loss=0.56294 | train_MAE=0.7351  val_MAE=0.7043 | lr=0.001 | time=0.07s\n",
      "Epoch 154 | train_loss=0.54629  val_loss=0.56661 | train_MAE=0.7220  val_MAE=0.7217 | lr=0.001 | time=0.06s\n",
      "Epoch 155 | train_loss=0.55237  val_loss=0.57713 | train_MAE=0.6884  val_MAE=0.7304 | lr=0.001 | time=0.07s\n",
      "Epoch 156 | train_loss=0.55061  val_loss=0.56730 | train_MAE=0.7052  val_MAE=0.7217 | lr=0.001 | time=0.07s\n",
      "Epoch 157 | train_loss=0.55425  val_loss=0.56255 | train_MAE=0.7220  val_MAE=0.7217 | lr=0.001 | time=0.07s\n",
      "Epoch 158 | train_loss=0.54406  val_loss=0.56423 | train_MAE=0.7351  val_MAE=0.7217 | lr=0.001 | time=0.06s\n",
      "Epoch 159 | train_loss=0.54760  val_loss=0.56256 | train_MAE=0.7034  val_MAE=0.7304 | lr=0.001 | time=0.06s\n",
      "Epoch 160 | train_loss=0.54016  val_loss=0.55600 | train_MAE=0.7090  val_MAE=0.7304 | lr=0.001 | time=0.06s\n",
      "Epoch 161 | train_loss=0.55720  val_loss=0.56360 | train_MAE=0.6996  val_MAE=0.7565 | lr=0.001 | time=0.06s\n",
      "Epoch 162 | train_loss=0.54898  val_loss=0.56500 | train_MAE=0.7276  val_MAE=0.7304 | lr=0.001 | time=0.06s\n",
      "Epoch 163 | train_loss=0.53128  val_loss=0.56569 | train_MAE=0.7463  val_MAE=0.7217 | lr=0.001 | time=0.06s\n",
      "Epoch 164 | train_loss=0.52575  val_loss=0.55872 | train_MAE=0.7444  val_MAE=0.7217 | lr=0.001 | time=0.06s\n",
      "Epoch 165 | train_loss=0.53629  val_loss=0.55827 | train_MAE=0.7257  val_MAE=0.7391 | lr=0.001 | time=0.06s\n",
      "Epoch 166 | train_loss=0.54589  val_loss=0.56082 | train_MAE=0.7071  val_MAE=0.7304 | lr=0.001 | time=0.06s\n",
      "Epoch 167 | train_loss=0.54049  val_loss=0.56451 | train_MAE=0.7257  val_MAE=0.7304 | lr=0.001 | time=0.07s\n",
      "Epoch 168 | train_loss=0.53713  val_loss=0.56627 | train_MAE=0.7369  val_MAE=0.7391 | lr=0.001 | time=0.07s\n",
      "Epoch 169 | train_loss=0.52828  val_loss=0.56974 | train_MAE=0.7500  val_MAE=0.7304 | lr=0.001 | time=0.06s\n",
      "Epoch 170 | train_loss=0.53212  val_loss=0.56614 | train_MAE=0.7201  val_MAE=0.7304 | lr=0.001 | time=0.06s\n",
      "Epoch 171 | train_loss=0.52562  val_loss=0.57297 | train_MAE=0.7239  val_MAE=0.7130 | lr=0.001 | time=0.06s\n",
      "Epoch 172 | train_loss=0.54126  val_loss=0.56771 | train_MAE=0.7201  val_MAE=0.7217 | lr=0.001 | time=0.07s\n",
      "Epoch 173 | train_loss=0.53033  val_loss=0.56380 | train_MAE=0.7257  val_MAE=0.7043 | lr=0.001 | time=0.06s\n",
      "Epoch 174 | train_loss=0.54308  val_loss=0.56681 | train_MAE=0.7220  val_MAE=0.7217 | lr=0.001 | time=0.07s\n",
      "Epoch 175 | train_loss=0.52279  val_loss=0.57220 | train_MAE=0.7556  val_MAE=0.7391 | lr=0.001 | time=0.07s\n",
      "Epoch 176 | train_loss=0.53856  val_loss=0.56433 | train_MAE=0.7257  val_MAE=0.7304 | lr=0.001 | time=0.07s\n",
      "Epoch 177 | train_loss=0.53179  val_loss=0.56448 | train_MAE=0.7313  val_MAE=0.7130 | lr=0.001 | time=0.06s\n",
      "Epoch 178 | train_loss=0.53386  val_loss=0.56470 | train_MAE=0.7276  val_MAE=0.7130 | lr=0.001 | time=0.07s\n",
      "Epoch 179 | train_loss=0.53726  val_loss=0.57381 | train_MAE=0.7276  val_MAE=0.7304 | lr=0.001 | time=0.07s\n",
      "Epoch 180 | train_loss=0.53050  val_loss=0.57321 | train_MAE=0.7295  val_MAE=0.7304 | lr=0.001 | time=0.07s\n",
      "Epoch 181 | train_loss=0.51282  val_loss=0.56501 | train_MAE=0.7388  val_MAE=0.7217 | lr=0.001 | time=0.06s\n",
      "Epoch 182 | train_loss=0.52560  val_loss=0.56120 | train_MAE=0.7575  val_MAE=0.7130 | lr=0.001 | time=0.07s\n",
      "Epoch 183 | train_loss=0.51170  val_loss=0.57182 | train_MAE=0.7369  val_MAE=0.7217 | lr=0.001 | time=0.07s\n",
      "Epoch 184 | train_loss=0.52878  val_loss=0.56880 | train_MAE=0.7332  val_MAE=0.7304 | lr=0.001 | time=0.07s\n",
      "Epoch 185 | train_loss=0.53972  val_loss=0.55595 | train_MAE=0.7201  val_MAE=0.7130 | lr=0.001 | time=0.07s\n",
      "Epoch 186 | train_loss=0.53817  val_loss=0.56393 | train_MAE=0.7201  val_MAE=0.7391 | lr=0.001 | time=0.07s\n",
      "Epoch 187 | train_loss=0.54113  val_loss=0.56484 | train_MAE=0.7351  val_MAE=0.7304 | lr=0.001 | time=0.07s\n",
      "Epoch 188 | train_loss=0.52437  val_loss=0.55716 | train_MAE=0.7108  val_MAE=0.7304 | lr=0.001 | time=0.07s\n",
      "Epoch 189 | train_loss=0.53332  val_loss=0.56195 | train_MAE=0.7220  val_MAE=0.7217 | lr=0.001 | time=0.07s\n",
      "Epoch 190 | train_loss=0.53286  val_loss=0.55721 | train_MAE=0.7257  val_MAE=0.7478 | lr=0.001 | time=0.07s\n",
      "Epoch 191 | train_loss=0.52701  val_loss=0.55464 | train_MAE=0.7313  val_MAE=0.7391 | lr=0.001 | time=0.07s\n",
      "Epoch 192 | train_loss=0.52195  val_loss=0.55959 | train_MAE=0.7313  val_MAE=0.7304 | lr=0.001 | time=0.07s\n",
      "Epoch 193 | train_loss=0.53921  val_loss=0.56442 | train_MAE=0.7220  val_MAE=0.7217 | lr=0.001 | time=0.07s\n",
      "Epoch 194 | train_loss=0.53033  val_loss=0.57019 | train_MAE=0.7220  val_MAE=0.7217 | lr=0.001 | time=0.07s\n",
      "Epoch 195 | train_loss=0.52582  val_loss=0.57036 | train_MAE=0.7388  val_MAE=0.7217 | lr=0.001 | time=0.07s\n",
      "Epoch 196 | train_loss=0.52877  val_loss=0.55947 | train_MAE=0.7407  val_MAE=0.7391 | lr=0.001 | time=0.07s\n",
      "Epoch 197 | train_loss=0.53136  val_loss=0.57445 | train_MAE=0.7313  val_MAE=0.7217 | lr=0.001 | time=0.07s\n",
      "Epoch 198 | train_loss=0.54838  val_loss=0.57343 | train_MAE=0.7201  val_MAE=0.7217 | lr=0.001 | time=0.07s\n",
      "Epoch 199 | train_loss=0.51847  val_loss=0.57131 | train_MAE=0.7425  val_MAE=0.7217 | lr=0.001 | time=0.07s\n",
      "Epoch 200 | train_loss=0.53053  val_loss=0.56887 | train_MAE=0.7313  val_MAE=0.7391 | lr=0.001 | time=0.07s\n",
      "Total training time: 18.23s\n"
     ]
    }
   ],
   "source": [
    "# device check, kept getting problems before\n",
    "device = torch.device(\"mps\" if torch.backends.mps.is_available()\n",
    "                      else \"cuda\" if torch.cuda.is_available()\n",
    "                      else \"cpu\")\n",
    "\n",
    "# make sure your model is on the same device as the batches\n",
    "model = model.to(device)\n",
    "\n",
    "# call my training function with dataloaders\n",
    "history = train_model(model, X_train_dl, X_val_dl, epochs=200)\n"
   ]
  },
  {
   "cell_type": "code",
   "execution_count": 23,
   "id": "74aeca16",
   "metadata": {},
   "outputs": [],
   "source": [
    "from sklearn.metrics import confusion_matrix"
   ]
  },
  {
   "cell_type": "code",
   "execution_count": 24,
   "id": "a182bfb7",
   "metadata": {},
   "outputs": [
    {
     "name": "stdout",
     "output_type": "stream",
     "text": [
      "Test loss: 0.6578\n",
      "Accuracy:  0.609\n",
      "Precision: 0.423  Recall: 0.268  F1: 0.328\n"
     ]
    }
   ],
   "source": [
    "#time for evaluation \n",
    "model.eval()\n",
    "total_loss, total_n = 0.0, 0\n",
    "#stores all model predictions and true labels from the batches\n",
    "all_logits, all_true = [], []\n",
    "\n",
    "#makes sure no gradient\n",
    "with torch.no_grad():\n",
    "    #loops through test batches\n",
    "    for xb, yb in X_test_dl:\n",
    "        #makes sure the data can be used on your device\n",
    "        xb, yb = xb.to(device), yb.to(device)\n",
    "        #gets predictions\n",
    "        logits = model(xb)\n",
    "        #gets loss for that batch\n",
    "        batch_loss = loss(logits, yb).item()\n",
    "        #keeps track of total loss\n",
    "        total_loss += batch_loss * xb.size(0)\n",
    "        #keeps track of all samples\n",
    "        total_n += xb.size(0)\n",
    "        #stores the predictions and true labels on your cpu\n",
    "        all_logits.append(logits.cpu())\n",
    "        all_true.append(yb.cpu())\n",
    "\n",
    "#total test loss\n",
    "test_loss = total_loss / total_n\n",
    "#puts all batches into one tensor, then into a numpy array, and then into a 1d array\n",
    "logits = torch.cat(all_logits).numpy().ravel()\n",
    "y_true = torch.cat(all_true).numpy().astype(int)\n",
    "#manually does sigmoid, for some reason couldn't get it to work with the numpy function\n",
    "probs = 1.0 / (1.0 + np.exp(-logits))\n",
    "#sigmoid threshold\n",
    "y_pred = (probs >= 0.5).astype(int)\n",
    "\n",
    "#gets accuracy\n",
    "test_acc = accuracy_score(y_true, y_pred)\n",
    "#gets precision recall and f1\n",
    "prec, rec, f1, _ = precision_recall_fscore_support(y_true, y_pred, average=\"binary\", zero_division=0)\n",
    "\n",
    "print(f\"Test loss: {test_loss:.4f}\")\n",
    "print(f\"Accuracy:  {test_acc:.3f}\")\n",
    "print(f\"Precision: {prec:.3f}  Recall: {rec:.3f}  F1: {f1:.3f}\")"
   ]
  },
  {
   "cell_type": "code",
   "execution_count": 25,
   "id": "c22183b3",
   "metadata": {},
   "outputs": [
    {
     "name": "stdout",
     "output_type": "stream",
     "text": [
      "Confusion matrix [[TN FP],[FN TP]]:\n",
      " [[59 15]\n",
      " [30 11]]\n"
     ]
    },
    {
     "data": {
      "image/png": "[encoded data removed]",
      "text/plain": [
       "<Figure size 640x480 with 2 Axes>"
      ]
     },
     "metadata": {},
     "output_type": "display_data"
    }
   ],
   "source": [
    "\n",
    "\n",
    "cm = confusion_matrix(y_true, y_pred, labels=[0,1])\n",
    "sns.heatmap(cm, annot=True, xticklabels=[\"Predicted 0\", \"Predicted 1\"],\n",
    "            yticklabels=[\"Actual 0\", \"Actual 1\"])\n",
    "print(\"Confusion matrix [[TN FP],[FN TP]]:\\n\", cm)"
   ]
  },
  {
   "cell_type": "markdown",
   "id": "5234c675",
   "metadata": {},
   "source": [
    "It seems like my model isn't good at predicting 1's but good at 0's. This can be good for certain purposes since I would rather get a false negative than a false positive"
   ]
  },
  {
   "cell_type": "code",
   "execution_count": 26,
   "id": "b2822268",
   "metadata": {},
   "outputs": [
    {
     "data": {
      "image/png": "[encoded data removed]",
      "text/plain": [
       "<Figure size 640x480 with 1 Axes>"
      ]
     },
     "metadata": {},
     "output_type": "display_data"
    }
   ],
   "source": [
    "epochs = np.arange(1, len(history[\"train_loss\"]) + 1)\n",
    "test_acc_line = np.full_like(epochs, fill_value=test_acc, dtype=float)\n",
    "\n",
    "plt.figure()\n",
    "plt.plot(epochs, history[\"train_loss\"], label=\"Train loss\")\n",
    "plt.plot(epochs, history[\"val_loss\"],   label=\"Val loss\")\n",
    "plt.plot(epochs, test_acc_line,        label=f\"Test loss = {test_acc:.3f}\")\n",
    "plt.xlabel(\"Epoch\")\n",
    "plt.ylabel(\"Loss\")\n",
    "plt.title(\"Loss vs Epoch\")\n",
    "plt.legend()\n",
    "plt.show()\n"
   ]
  },
  {
   "cell_type": "markdown",
   "id": "e180853d",
   "metadata": {},
   "source": [
    "val and training loss is close to each other which is good, but it constatly decreases and my test loss isn't that good either"
   ]
  },
  {
   "cell_type": "code",
   "execution_count": 27,
   "id": "52d22832",
   "metadata": {},
   "outputs": [
    {
     "data": {
      "image/png": "[encoded data removed]",
      "text/plain": [
       "<Figure size 640x480 with 1 Axes>"
      ]
     },
     "metadata": {},
     "output_type": "display_data"
    }
   ],
   "source": [
    "from sklearn.metrics import roc_curve, auc\n",
    "\n",
    "fpr, tpr, _ = roc_curve(y_true, probs)   \n",
    "roc_auc = auc(fpr, tpr)\n",
    "\n",
    "plt.figure()\n",
    "plt.plot(fpr, tpr, label=f\"AUC = {roc_auc:.3f}\")\n",
    "plt.plot([0,1],[0,1], linestyle=\"--\")\n",
    "plt.xlabel(\"False Positive Rate\")\n",
    "plt.ylabel(\"True Positive Rate\")\n",
    "plt.title(\"ROC Curve (Test)\")\n",
    "plt.legend()\n",
    "plt.show()\n"
   ]
  },
  {
   "cell_type": "code",
   "execution_count": 28,
   "id": "973d8690",
   "metadata": {},
   "outputs": [],
   "source": [
    "torch.save(model.state_dict(), \"a2_part1_weights_Jadenpeacock.pkl\")"
   ]
  },
  {
   "cell_type": "markdown",
   "id": "2013db51",
   "metadata": {},
   "source": [
    "References:\n",
    "https://lightning.ai/docs/torchmetrics/stable/classification/roc.html\n",
    "\n",
    "https://docs.pytorch.org/tutorials/beginner/saving_loading_models.html\n",
    "\n",
    "https://docs.pytorch.org/docs/stable/optim.html\n",
    "\n",
    "https://docs.pytorch.org/docs/stable/nn.html#loss-functions\n",
    "\n",
    "https://docs.pytorch.org/docs/stable/nn.html\n",
    "\n",
    "https://docs.pytorch.org/docs/stable/nn.html#non-linear-activations-weighted-sum-nonlinearity\n",
    "\n",
    "https://docs.pytorch.org/docs/stable/tensors.html\n"
   ]
  }
 ],
 "metadata": {
  "kernelspec": {
   "display_name": "base",
   "language": "python",
   "name": "python3"
  },
  "language_info": {
   "codemirror_mode": {
    "name": "ipython",
    "version": 3
   },
   "file_extension": ".py",
   "mimetype": "text/x-python",
   "name": "python",
   "nbconvert_exporter": "python",
   "pygments_lexer": "ipython3",
   "version": "3.13.5"
  }
 },
 "nbformat": 4,
 "nbformat_minor": 5
}
